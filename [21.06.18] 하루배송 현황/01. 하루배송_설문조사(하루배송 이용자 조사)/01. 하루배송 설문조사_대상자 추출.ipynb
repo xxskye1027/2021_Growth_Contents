{
 "cells": [
  {
   "cell_type": "code",
   "execution_count": 1,
   "metadata": {
    "ExecuteTime": {
     "end_time": "2021-05-27T04:24:48.189497Z",
     "start_time": "2021-05-27T04:24:47.062638Z"
    }
   },
   "outputs": [],
   "source": [
    "import warnings\n",
    "warnings.filterwarnings(action='ignore')\n",
    "import pandas as pd\n",
    "pd.options.display.max_columns = 50\n",
    "pd.options.display.max_rows = 9999\n",
    "import numpy as numpy\n",
    "\n",
    "%matplotlib inline\n",
    "import matplotlib.pyplot as plt\n",
    "import seaborn as sns\n",
    "import platform\n",
    "from tqdm.notebook import tqdm\n",
    "\n",
    "# 글꼴\n",
    "if platform.system() == 'Windows':  # 윈도우인 경우, 맑은 고딕\n",
    "    plt.rc('font', family='Malgun Gothic')\n",
    "\n",
    "elif platform.system() == 'Darwin':  # Mac 인 경우, AppleGothic(기본 글꼴)\n",
    "    plt.rc('font', family='AppleGothic')\n",
    "else:  # 리눅스\n",
    "    plt.rc('font', family='NanumBarunGothic')\n",
    "\n",
    "# matplotlib.rc('font', family='NanumBarunGothic')\n",
    "plt.rcParams['axes.unicode_minus'] = False"
   ]
  },
  {
   "cell_type": "code",
   "execution_count": 2,
   "metadata": {
    "ExecuteTime": {
     "end_time": "2021-05-27T04:25:04.875846Z",
     "start_time": "2021-05-27T04:24:48.199527Z"
    }
   },
   "outputs": [],
   "source": [
    "df = pd.read_excel('하루배송_이용자_2103-2105.xlsx')"
   ]
  },
  {
   "cell_type": "code",
   "execution_count": 3,
   "metadata": {
    "ExecuteTime": {
     "end_time": "2021-05-27T04:25:04.912986Z",
     "start_time": "2021-05-27T04:25:04.908318Z"
    }
   },
   "outputs": [
    {
     "data": {
      "text/plain": [
       "(138178, 13)"
      ]
     },
     "execution_count": 3,
     "metadata": {},
     "output_type": "execute_result"
    }
   ],
   "source": [
    "df.shape"
   ]
  },
  {
   "cell_type": "code",
   "execution_count": 4,
   "metadata": {
    "ExecuteTime": {
     "end_time": "2021-05-27T04:25:04.944964Z",
     "start_time": "2021-05-27T04:25:04.941154Z"
    }
   },
   "outputs": [
    {
     "data": {
      "text/plain": [
       "Index(['회원번호', '하루배송 최초구매일', '하루배송 최종구매일', '하루배송 구매건수', '하루배송 거래액', '출생년도',\n",
       "       '나이', '이메일', '최종로그인', '브랜디가입일', '푸시수신동의', '야간수신동의', '수신동의일시'],\n",
       "      dtype='object')"
      ]
     },
     "execution_count": 4,
     "metadata": {},
     "output_type": "execute_result"
    }
   ],
   "source": [
    "df.columns"
   ]
  },
  {
   "cell_type": "code",
   "execution_count": 5,
   "metadata": {
    "ExecuteTime": {
     "end_time": "2021-05-27T04:25:04.983832Z",
     "start_time": "2021-05-27T04:25:04.971360Z"
    }
   },
   "outputs": [
    {
     "data": {
      "text/html": [
       "<div>\n",
       "<style scoped>\n",
       "    .dataframe tbody tr th:only-of-type {\n",
       "        vertical-align: middle;\n",
       "    }\n",
       "\n",
       "    .dataframe tbody tr th {\n",
       "        vertical-align: top;\n",
       "    }\n",
       "\n",
       "    .dataframe thead th {\n",
       "        text-align: right;\n",
       "    }\n",
       "</style>\n",
       "<table border=\"1\" class=\"dataframe\">\n",
       "  <thead>\n",
       "    <tr style=\"text-align: right;\">\n",
       "      <th></th>\n",
       "      <th>회원번호</th>\n",
       "      <th>하루배송 최초구매일</th>\n",
       "      <th>하루배송 최종구매일</th>\n",
       "      <th>하루배송 구매건수</th>\n",
       "      <th>하루배송 거래액</th>\n",
       "      <th>출생년도</th>\n",
       "      <th>나이</th>\n",
       "      <th>이메일</th>\n",
       "      <th>최종로그인</th>\n",
       "      <th>브랜디가입일</th>\n",
       "      <th>푸시수신동의</th>\n",
       "      <th>야간수신동의</th>\n",
       "      <th>수신동의일시</th>\n",
       "    </tr>\n",
       "  </thead>\n",
       "  <tbody>\n",
       "    <tr>\n",
       "      <th>0</th>\n",
       "      <td>3492959</td>\n",
       "      <td>2021-03-01 00:13:33</td>\n",
       "      <td>2021-05-12 20:02:34</td>\n",
       "      <td>10</td>\n",
       "      <td>256300</td>\n",
       "      <td>1994</td>\n",
       "      <td>28</td>\n",
       "      <td>wlskrkejsro@hanmail.net</td>\n",
       "      <td>2021-05-25 19:29:12</td>\n",
       "      <td>2020-06-18 07:55:41</td>\n",
       "      <td>Y</td>\n",
       "      <td>Y</td>\n",
       "      <td>2020-06-18 07:55:53</td>\n",
       "    </tr>\n",
       "    <tr>\n",
       "      <th>1</th>\n",
       "      <td>1834641</td>\n",
       "      <td>2021-03-02 05:06:36</td>\n",
       "      <td>2021-04-22 16:11:16</td>\n",
       "      <td>7</td>\n",
       "      <td>222380</td>\n",
       "      <td>2000</td>\n",
       "      <td>22</td>\n",
       "      <td>dabin04120@icloud.com</td>\n",
       "      <td>2021-05-25 20:00:44</td>\n",
       "      <td>2019-03-21 17:54:52</td>\n",
       "      <td>Y</td>\n",
       "      <td>Y</td>\n",
       "      <td>2020-08-29 20:29:02</td>\n",
       "    </tr>\n",
       "    <tr>\n",
       "      <th>2</th>\n",
       "      <td>1416448</td>\n",
       "      <td>2021-03-02 10:20:50</td>\n",
       "      <td>2021-05-17 14:13:53</td>\n",
       "      <td>4</td>\n",
       "      <td>71940</td>\n",
       "      <td>1995</td>\n",
       "      <td>27</td>\n",
       "      <td>yearim1014@naver.com</td>\n",
       "      <td>2021-05-25 14:50:52</td>\n",
       "      <td>2018-06-25 19:36:43</td>\n",
       "      <td>Y</td>\n",
       "      <td>Y</td>\n",
       "      <td>2020-07-31 20:29:28</td>\n",
       "    </tr>\n",
       "    <tr>\n",
       "      <th>3</th>\n",
       "      <td>1453306</td>\n",
       "      <td>2021-03-02 10:29:30</td>\n",
       "      <td>2021-05-19 21:12:26</td>\n",
       "      <td>10</td>\n",
       "      <td>200290</td>\n",
       "      <td>1995</td>\n",
       "      <td>27</td>\n",
       "      <td>zosel9654@naver.com</td>\n",
       "      <td>2021-05-20 20:18:04</td>\n",
       "      <td>2018-07-17 01:51:21</td>\n",
       "      <td>Y</td>\n",
       "      <td>Y</td>\n",
       "      <td>2020-07-29 14:33:23</td>\n",
       "    </tr>\n",
       "    <tr>\n",
       "      <th>4</th>\n",
       "      <td>114775</td>\n",
       "      <td>2021-03-02 11:08:08</td>\n",
       "      <td>2021-04-02 10:55:40</td>\n",
       "      <td>2</td>\n",
       "      <td>37500</td>\n",
       "      <td>1997</td>\n",
       "      <td>25</td>\n",
       "      <td>ppa025@naver.com</td>\n",
       "      <td>2021-05-20 00:13:25</td>\n",
       "      <td>2016-07-18 02:36:13</td>\n",
       "      <td>Y</td>\n",
       "      <td>Y</td>\n",
       "      <td>2020-08-02 15:30:36</td>\n",
       "    </tr>\n",
       "  </tbody>\n",
       "</table>\n",
       "</div>"
      ],
      "text/plain": [
       "      회원번호          하루배송 최초구매일          하루배송 최종구매일  하루배송 구매건수  하루배송 거래액  출생년도  \\\n",
       "0  3492959 2021-03-01 00:13:33 2021-05-12 20:02:34         10    256300  1994   \n",
       "1  1834641 2021-03-02 05:06:36 2021-04-22 16:11:16          7    222380  2000   \n",
       "2  1416448 2021-03-02 10:20:50 2021-05-17 14:13:53          4     71940  1995   \n",
       "3  1453306 2021-03-02 10:29:30 2021-05-19 21:12:26         10    200290  1995   \n",
       "4   114775 2021-03-02 11:08:08 2021-04-02 10:55:40          2     37500  1997   \n",
       "\n",
       "   나이                      이메일               최종로그인              브랜디가입일 푸시수신동의  \\\n",
       "0  28  wlskrkejsro@hanmail.net 2021-05-25 19:29:12 2020-06-18 07:55:41      Y   \n",
       "1  22    dabin04120@icloud.com 2021-05-25 20:00:44 2019-03-21 17:54:52      Y   \n",
       "2  27     yearim1014@naver.com 2021-05-25 14:50:52 2018-06-25 19:36:43      Y   \n",
       "3  27      zosel9654@naver.com 2021-05-20 20:18:04 2018-07-17 01:51:21      Y   \n",
       "4  25         ppa025@naver.com 2021-05-20 00:13:25 2016-07-18 02:36:13      Y   \n",
       "\n",
       "  야간수신동의              수신동의일시  \n",
       "0      Y 2020-06-18 07:55:53  \n",
       "1      Y 2020-08-29 20:29:02  \n",
       "2      Y 2020-07-31 20:29:28  \n",
       "3      Y 2020-07-29 14:33:23  \n",
       "4      Y 2020-08-02 15:30:36  "
      ]
     },
     "execution_count": 5,
     "metadata": {},
     "output_type": "execute_result"
    }
   ],
   "source": [
    "df.head()"
   ]
  },
  {
   "cell_type": "code",
   "execution_count": 16,
   "metadata": {
    "ExecuteTime": {
     "end_time": "2021-05-26T04:47:25.473327Z",
     "start_time": "2021-05-26T04:47:25.461809Z"
    }
   },
   "outputs": [],
   "source": [
    "df_save = df.copy()"
   ]
  },
  {
   "cell_type": "code",
   "execution_count": 17,
   "metadata": {
    "ExecuteTime": {
     "end_time": "2021-05-26T04:47:33.536096Z",
     "start_time": "2021-05-26T04:47:33.532983Z"
    }
   },
   "outputs": [
    {
     "data": {
      "text/plain": [
       "(138178, 13)"
      ]
     },
     "execution_count": 17,
     "metadata": {},
     "output_type": "execute_result"
    }
   ],
   "source": [
    "df_save.shape"
   ]
  },
  {
   "cell_type": "markdown",
   "metadata": {},
   "source": [
    "# 대상자 세분화"
   ]
  },
  {
   "cell_type": "markdown",
   "metadata": {},
   "source": [
    "- 나이: (코어) 24 - 26\n",
    "- 하루배송 이용건수: 상위\n",
    "- (선택)하루배송 거래액: 상위"
   ]
  },
  {
   "cell_type": "markdown",
   "metadata": {},
   "source": [
    "## 나이"
   ]
  },
  {
   "cell_type": "code",
   "execution_count": 6,
   "metadata": {
    "ExecuteTime": {
     "end_time": "2021-05-27T04:25:05.067282Z",
     "start_time": "2021-05-27T04:25:05.011012Z"
    }
   },
   "outputs": [
    {
     "data": {
      "text/plain": [
       "(48450, 13)"
      ]
     },
     "execution_count": 6,
     "metadata": {},
     "output_type": "execute_result"
    }
   ],
   "source": [
    "df.loc[(df['나이'] >= 24)&(df['나이'] <= 26)].shape"
   ]
  },
  {
   "cell_type": "code",
   "execution_count": 7,
   "metadata": {
    "ExecuteTime": {
     "end_time": "2021-05-27T04:25:05.103232Z",
     "start_time": "2021-05-27T04:25:05.095222Z"
    }
   },
   "outputs": [],
   "source": [
    "df = df.loc[(df['나이'] >= 24)&(df['나이'] <= 26)]"
   ]
  },
  {
   "cell_type": "markdown",
   "metadata": {},
   "source": [
    "## 이용건수"
   ]
  },
  {
   "cell_type": "code",
   "execution_count": 8,
   "metadata": {
    "ExecuteTime": {
     "end_time": "2021-05-27T04:25:19.123334Z",
     "start_time": "2021-05-27T04:25:19.101034Z"
    },
    "scrolled": true
   },
   "outputs": [
    {
     "data": {
      "text/html": [
       "<div>\n",
       "<style scoped>\n",
       "    .dataframe tbody tr th:only-of-type {\n",
       "        vertical-align: middle;\n",
       "    }\n",
       "\n",
       "    .dataframe tbody tr th {\n",
       "        vertical-align: top;\n",
       "    }\n",
       "\n",
       "    .dataframe thead th {\n",
       "        text-align: right;\n",
       "    }\n",
       "</style>\n",
       "<table border=\"1\" class=\"dataframe\">\n",
       "  <thead>\n",
       "    <tr style=\"text-align: right;\">\n",
       "      <th></th>\n",
       "      <th>회원번호</th>\n",
       "      <th>하루배송 최초구매일</th>\n",
       "      <th>하루배송 최종구매일</th>\n",
       "      <th>하루배송 구매건수</th>\n",
       "      <th>하루배송 거래액</th>\n",
       "      <th>출생년도</th>\n",
       "      <th>나이</th>\n",
       "      <th>이메일</th>\n",
       "      <th>최종로그인</th>\n",
       "      <th>브랜디가입일</th>\n",
       "      <th>푸시수신동의</th>\n",
       "      <th>야간수신동의</th>\n",
       "      <th>수신동의일시</th>\n",
       "    </tr>\n",
       "  </thead>\n",
       "  <tbody>\n",
       "    <tr>\n",
       "      <th>921</th>\n",
       "      <td>3816811</td>\n",
       "      <td>2021-03-03 18:47:43</td>\n",
       "      <td>2021-05-21 00:56:09</td>\n",
       "      <td>95</td>\n",
       "      <td>1784240</td>\n",
       "      <td>1998</td>\n",
       "      <td>24</td>\n",
       "      <td>bz5auyekgm@privaterelay.appleid.com</td>\n",
       "      <td>2021-05-21 18:02:02</td>\n",
       "      <td>2020-08-30 15:14:56</td>\n",
       "      <td>Y</td>\n",
       "      <td>Y</td>\n",
       "      <td>2020-08-30 15:15:04</td>\n",
       "    </tr>\n",
       "    <tr>\n",
       "      <th>82</th>\n",
       "      <td>24088</td>\n",
       "      <td>2021-03-02 00:10:38</td>\n",
       "      <td>2021-05-24 18:21:20</td>\n",
       "      <td>58</td>\n",
       "      <td>1146540</td>\n",
       "      <td>1996</td>\n",
       "      <td>26</td>\n",
       "      <td>ddwde@naver.com</td>\n",
       "      <td>2021-05-26 00:38:17</td>\n",
       "      <td>2015-10-16 20:01:15</td>\n",
       "      <td>Y</td>\n",
       "      <td>Y</td>\n",
       "      <td>2020-07-28 19:07:15</td>\n",
       "    </tr>\n",
       "    <tr>\n",
       "      <th>50</th>\n",
       "      <td>135010</td>\n",
       "      <td>2021-03-05 15:43:38</td>\n",
       "      <td>2021-05-18 22:28:10</td>\n",
       "      <td>54</td>\n",
       "      <td>1162050</td>\n",
       "      <td>1997</td>\n",
       "      <td>25</td>\n",
       "      <td>wltnwjd97@naver.com</td>\n",
       "      <td>2021-05-25 13:54:19</td>\n",
       "      <td>2016-08-02 15:43:22</td>\n",
       "      <td>Y</td>\n",
       "      <td>Y</td>\n",
       "      <td>2020-07-30 20:20:56</td>\n",
       "    </tr>\n",
       "    <tr>\n",
       "      <th>20427</th>\n",
       "      <td>1259285</td>\n",
       "      <td>2021-03-09 18:23:01</td>\n",
       "      <td>2021-05-24 13:00:24</td>\n",
       "      <td>53</td>\n",
       "      <td>1122020</td>\n",
       "      <td>1997</td>\n",
       "      <td>25</td>\n",
       "      <td>yhw302@naver.com</td>\n",
       "      <td>2021-05-25 21:47:53</td>\n",
       "      <td>2018-03-25 19:33:11</td>\n",
       "      <td>Y</td>\n",
       "      <td>Y</td>\n",
       "      <td>2020-09-12 13:15:08</td>\n",
       "    </tr>\n",
       "    <tr>\n",
       "      <th>478</th>\n",
       "      <td>1610478</td>\n",
       "      <td>2021-03-04 10:20:37</td>\n",
       "      <td>2021-05-25 10:47:42</td>\n",
       "      <td>48</td>\n",
       "      <td>87510</td>\n",
       "      <td>1997</td>\n",
       "      <td>25</td>\n",
       "      <td>pdw04330@naver.com</td>\n",
       "      <td>2021-05-26 00:53:24</td>\n",
       "      <td>2018-11-12 14:53:04</td>\n",
       "      <td>Y</td>\n",
       "      <td>Y</td>\n",
       "      <td>2020-07-28 14:27:18</td>\n",
       "    </tr>\n",
       "  </tbody>\n",
       "</table>\n",
       "</div>"
      ],
      "text/plain": [
       "          회원번호          하루배송 최초구매일          하루배송 최종구매일  하루배송 구매건수  하루배송 거래액  \\\n",
       "921    3816811 2021-03-03 18:47:43 2021-05-21 00:56:09         95   1784240   \n",
       "82       24088 2021-03-02 00:10:38 2021-05-24 18:21:20         58   1146540   \n",
       "50      135010 2021-03-05 15:43:38 2021-05-18 22:28:10         54   1162050   \n",
       "20427  1259285 2021-03-09 18:23:01 2021-05-24 13:00:24         53   1122020   \n",
       "478    1610478 2021-03-04 10:20:37 2021-05-25 10:47:42         48     87510   \n",
       "\n",
       "       출생년도  나이                                  이메일               최종로그인  \\\n",
       "921    1998  24  bz5auyekgm@privaterelay.appleid.com 2021-05-21 18:02:02   \n",
       "82     1996  26                      ddwde@naver.com 2021-05-26 00:38:17   \n",
       "50     1997  25                  wltnwjd97@naver.com 2021-05-25 13:54:19   \n",
       "20427  1997  25                     yhw302@naver.com 2021-05-25 21:47:53   \n",
       "478    1997  25                   pdw04330@naver.com 2021-05-26 00:53:24   \n",
       "\n",
       "                   브랜디가입일 푸시수신동의 야간수신동의              수신동의일시  \n",
       "921   2020-08-30 15:14:56      Y      Y 2020-08-30 15:15:04  \n",
       "82    2015-10-16 20:01:15      Y      Y 2020-07-28 19:07:15  \n",
       "50    2016-08-02 15:43:22      Y      Y 2020-07-30 20:20:56  \n",
       "20427 2018-03-25 19:33:11      Y      Y 2020-09-12 13:15:08  \n",
       "478   2018-11-12 14:53:04      Y      Y 2020-07-28 14:27:18  "
      ]
     },
     "execution_count": 8,
     "metadata": {},
     "output_type": "execute_result"
    }
   ],
   "source": [
    "df.sort_values(by='하루배송 구매건수', ascending=False)[:20000].head()"
   ]
  },
  {
   "cell_type": "code",
   "execution_count": 9,
   "metadata": {
    "ExecuteTime": {
     "end_time": "2021-05-27T04:25:23.501056Z",
     "start_time": "2021-05-27T04:25:23.488278Z"
    },
    "scrolled": true
   },
   "outputs": [
    {
     "data": {
      "text/plain": [
       "(20000, 13)"
      ]
     },
     "execution_count": 9,
     "metadata": {},
     "output_type": "execute_result"
    }
   ],
   "source": [
    "df.sort_values(by='하루배송 구매건수', ascending=False)[:20000].shape"
   ]
  },
  {
   "cell_type": "code",
   "execution_count": 12,
   "metadata": {
    "ExecuteTime": {
     "end_time": "2021-05-27T04:26:23.147933Z",
     "start_time": "2021-05-27T04:26:23.113491Z"
    },
    "scrolled": true
   },
   "outputs": [
    {
     "data": {
      "text/plain": [
       "False    20000\n",
       "dtype: int64"
      ]
     },
     "execution_count": 12,
     "metadata": {},
     "output_type": "execute_result"
    }
   ],
   "source": [
    "df.sort_values(by='하루배송 구매건수', ascending=False)[:20000].duplicated().value_counts()"
   ]
  },
  {
   "cell_type": "code",
   "execution_count": 10,
   "metadata": {
    "ExecuteTime": {
     "end_time": "2021-05-27T04:25:36.499129Z",
     "start_time": "2021-05-27T04:25:31.567690Z"
    }
   },
   "outputs": [],
   "source": [
    "df.sort_values(by='하루배송 구매건수', ascending=False)[:20000].to_excel('하루배송_설문조사_대상자_2만명.xlsx', index=False)"
   ]
  }
 ],
 "metadata": {
  "kernelspec": {
   "display_name": "Python 3",
   "language": "python",
   "name": "python3"
  },
  "language_info": {
   "codemirror_mode": {
    "name": "ipython",
    "version": 3
   },
   "file_extension": ".py",
   "mimetype": "text/x-python",
   "name": "python",
   "nbconvert_exporter": "python",
   "pygments_lexer": "ipython3",
   "version": "3.8.5"
  },
  "toc": {
   "base_numbering": 1,
   "nav_menu": {},
   "number_sections": true,
   "sideBar": true,
   "skip_h1_title": false,
   "title_cell": "Table of Contents",
   "title_sidebar": "Contents",
   "toc_cell": false,
   "toc_position": {},
   "toc_section_display": true,
   "toc_window_display": false
  },
  "varInspector": {
   "cols": {
    "lenName": 16,
    "lenType": 16,
    "lenVar": 40
   },
   "kernels_config": {
    "python": {
     "delete_cmd_postfix": "",
     "delete_cmd_prefix": "del ",
     "library": "var_list.py",
     "varRefreshCmd": "print(var_dic_list())"
    },
    "r": {
     "delete_cmd_postfix": ") ",
     "delete_cmd_prefix": "rm(",
     "library": "var_list.r",
     "varRefreshCmd": "cat(var_dic_list()) "
    }
   },
   "types_to_exclude": [
    "module",
    "function",
    "builtin_function_or_method",
    "instance",
    "_Feature"
   ],
   "window_display": false
  }
 },
 "nbformat": 4,
 "nbformat_minor": 4
}
